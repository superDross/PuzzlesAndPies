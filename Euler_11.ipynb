{
 "cells": [
  {
   "cell_type": "markdown",
   "metadata": {
    "collapsed": true
   },
   "source": [
    "## Prepare Data"
   ]
  },
  {
   "cell_type": "code",
   "execution_count": 200,
   "metadata": {
    "collapsed": false
   },
   "outputs": [],
   "source": [
    "import pandas as pd\n",
    "import itertools\n",
    "import time\n",
    "\n",
    "nums = [\n",
    "        ['08 02 22 97 38 15 00 40 00 75 04 05 07 78 52 12 50 77 91 08'],\n",
    "        ['49 49 99 40 17 81 18 57 60 87 17 40 98 43 69 48 04 56 62 00'],\n",
    "        ['81 49 31 73 55 79 14 29 93 71 40 67 53 88 30 03 49 13 36 65'],\n",
    "        ['52 70 95 23 04 60 11 42 69 24 68 56 01 32 56 71 37 02 36 91'],\n",
    "        ['22 31 16 71 51 67 63 89 41 92 36 54 22 40 40 28 66 33 13 80'],\n",
    "        ['24 47 32 60 99 03 45 02 44 75 33 53 78 36 84 20 35 17 12 50'],\n",
    "        ['32 98 81 28 64 23 67 10 26 38 40 67 59 54 70 66 18 38 64 70'],\n",
    "        ['67 26 20 68 02 62 12 20 95 63 94 39 63 08 40 91 66 49 94 21'],\n",
    "        ['24 55 58 05 66 73 99 26 97 17 78 78 96 83 14 88 34 89 63 72'],\n",
    "        ['21 36 23 09 75 00 76 44 20 45 35 14 00 61 33 97 34 31 33 95'],\n",
    "        ['78 17 53 28 22 75 31 67 15 94 03 80 04 62 16 14 09 53 56 92'],\n",
    "        ['16 39 05 42 96 35 31 47 55 58 88 24 00 17 54 24 36 29 85 57'],\n",
    "        ['86 56 00 48 35 71 89 07 05 44 44 37 44 60 21 58 51 54 17 58'],\n",
    "        ['19 80 81 68 05 94 47 69 28 73 92 13 86 52 17 77 04 89 55 40'],\n",
    "        ['04 52 08 83 97 35 99 16 07 97 57 32 16 26 26 79 33 27 98 66'],\n",
    "        ['88 36 68 87 57 62 20 72 03 46 33 67 46 55 12 32 63 93 53 69'],\n",
    "        ['04 42 16 73 38 25 39 11 24 94 72 18 08 46 29 32 40 62 76 36'],\n",
    "        ['20 69 36 41 72 30 23 88 34 62 99 69 82 67 59 85 74 04 36 16'],\n",
    "        ['20 73 35 29 78 31 90 01 74 31 49 71 48 86 81 16 23 57 05 54'],\n",
    "        ['01 70 54 71 83 51 54 69 16 92 33 48 61 43 52 01 89 19 67 48']\n",
    "       ]\n",
    "\n",
    "split_nums = [x.split(\" \") for y in nums for x in y]\n",
    "\n",
    "df = pd.DataFrame(split_nums)\n",
    "df = df.apply(pd.to_numeric, args=('coerce',))\n"
   ]
  },
  {
   "cell_type": "markdown",
   "metadata": {},
   "source": [
    "## Solution"
   ]
  },
  {
   "cell_type": "code",
   "execution_count": 197,
   "metadata": {
    "collapsed": false
   },
   "outputs": [
    {
     "name": "stdout",
     "output_type": "stream",
     "text": [
      "Completed in 0.45240283012390137 seconds\n"
     ]
    },
    {
     "data": {
      "text/plain": [
       "'70600674 in [89, 94, 97, 87]'"
      ]
     },
     "execution_count": 197,
     "metadata": {},
     "output_type": "execute_result"
    }
   ],
   "source": [
    "\n",
    "def main(df):\n",
    "    ''' From a DataFrame of equal dimensions, extract a \n",
    "        list of numbers from from all possible directions,\n",
    "        split into fours and determine which list of four \n",
    "        values gives the highest number when multiplied \n",
    "        together.\n",
    "    \n",
    "    Args:\n",
    "        df: DataFrame of equal dimensions\n",
    "    \n",
    "    Returns:\n",
    "        The greatest product of four adjacent numbers in all \n",
    "        possible directions of the given DataFrame.\n",
    "        \n",
    "    '''\n",
    "    start = time.time()\n",
    "    # extract the maximum key from a dict\n",
    "    get_max = lambda x: max([k for k, v in x.items()])\n",
    "\n",
    "    max_total_all = {}\n",
    "    for comb in itertools.product([False, True], repeat=4):\n",
    "        one, two, three, four = comb\n",
    "        thing = up_down_left_right(df, forward=one, column=two, diagonal=three, diag_left=four)\n",
    "        max_num = get_max(thing)\n",
    "        max_values = thing.get(max_num)\n",
    "        max_total_all[max_num] = max_values\n",
    "    \n",
    "    abs_max = get_max(max_total_all)\n",
    "    \n",
    "    \n",
    "    elapsed = (time.time() - start)\n",
    "    print(\"Completed in {} seconds\".format(elapsed))\n",
    "    \n",
    "    return \"{} in {}\".format(abs_max, max_total_all.get(abs_max))\n",
    "\n",
    "\n",
    "\n",
    "def up_down_left_right(df, forward=True, column=False, diagonal=False, diag_left=True):\n",
    "    ''' From a DataFrame of equal dimensions, extract a list of numbers\n",
    "        in a given direction, split the list into groups of fours and\n",
    "        multiply all four number. Store the number in a dict along with \n",
    "        the list of four numbers.\n",
    "        \n",
    "    Args:\n",
    "        df: DataFrame of equal dimensions\n",
    "        forward: traverse the list of numbers forward or backwards\n",
    "        column: traverse the df by column by column or row by row\n",
    "        diaganol: traverse diaganolly across the dataframe or not\n",
    "        diag_left: traverse diaganolly left to right or right to left\n",
    "    \n",
    "    Returns:\n",
    "        a dictionary storing the four numbers as the value and the\n",
    "        multiplication of the four numbers as the key\n",
    "    '''\n",
    "    \n",
    "    if forward:\n",
    "        count=range(20)\n",
    "    else:\n",
    "        count=range(20,-1,-1)\n",
    "\n",
    "    sums = {}\n",
    "\n",
    "    \n",
    "    for num in range(20):\n",
    "        # determine which direction to extract the numbers from\n",
    "        if column and not diagonal: # column by column\n",
    "            line = df[num]\n",
    "        elif column and diagonal: # diagnol column\n",
    "            line = diag(df, col=num, left_to_right=diag_left)\n",
    "        elif not column and diagonal: # diagnol row\n",
    "            line = diag(df, row=num, left_to_right=diag_left)\n",
    "        elif not column and not diagonal: # row by row\n",
    "            line = df.iloc[num]\n",
    "\n",
    "        # split line into list of fours, multiply and ad to dictionary\n",
    "        for start in count:\n",
    "\n",
    "            if forward:\n",
    "                end = start+4\n",
    "                split_line = line[start:end]\n",
    "                #print(start, end)\n",
    "            else: # backward\n",
    "                end = start-4\n",
    "                split_line = line[end:start]\n",
    "                #print(end, start)\n",
    "\n",
    "            if start < 21 and end < 21:\n",
    "                \n",
    "                fours = split_line.tolist() if not isinstance(split_line, list) else split_line\n",
    "                total = multiply(fours)\n",
    "                sums[total] = fours\n",
    "    \n",
    "    return sums\n",
    "\n",
    "\n",
    "\n",
    "def diag(df, col=0, row=0, left_to_right=True):\n",
    "    ''' From a dataframe of equal dimensions, get all \n",
    "        numbers in a diaganol direction from thea given\n",
    "        starting point and return all extracted numbers \n",
    "        in a list.\n",
    "        \n",
    "    Args:\n",
    "        df: DataFrame of equal dimensions\n",
    "        col: column index to start from\n",
    "        row: crow index to start from\n",
    "        left_to_right: travel diaganolly from left to right or right to left\n",
    "    \n",
    "    Return:\n",
    "        a list of extracted numbers\n",
    "    '''\n",
    "    if not left_to_right:\n",
    "        count = range(19, -1, -1)\n",
    "    else:\n",
    "        count = range(20)\n",
    "    \n",
    "    diag_line = []\n",
    "    for fpos, rpos in zip(range(0,20), count):\n",
    "        #print(fpos, rpos)\n",
    "        if fpos+col < 20 and  rpos-row < 20 and rpos-row > -1:\n",
    "            \n",
    "            n = df.iloc[fpos+col, rpos-row]\n",
    "            diag_line.append(n)\n",
    "        \n",
    "    return diag_line\n",
    "\n",
    "\n",
    "\n",
    "def multiply(numbers):  \n",
    "    ''' Multiply all numbers in a given list\n",
    "    '''\n",
    "    total = 1\n",
    "    for x in numbers:\n",
    "        total *= x  \n",
    "    return total  \n",
    "\n",
    "\n",
    "main(df)"
   ]
  },
  {
   "cell_type": "code",
   "execution_count": null,
   "metadata": {
    "collapsed": false
   },
   "outputs": [],
   "source": []
  }
 ],
 "metadata": {
  "anaconda-cloud": {},
  "kernelspec": {
   "display_name": "Python [Root]",
   "language": "python",
   "name": "Python [Root]"
  },
  "language_info": {
   "codemirror_mode": {
    "name": "ipython",
    "version": 3
   },
   "file_extension": ".py",
   "mimetype": "text/x-python",
   "name": "python",
   "nbconvert_exporter": "python",
   "pygments_lexer": "ipython3",
   "version": "3.5.2"
  }
 },
 "nbformat": 4,
 "nbformat_minor": 0
}
